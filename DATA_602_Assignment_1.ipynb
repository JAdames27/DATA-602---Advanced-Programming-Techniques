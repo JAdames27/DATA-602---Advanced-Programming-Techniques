{
  "nbformat": 4,
  "nbformat_minor": 0,
  "metadata": {
    "colab": {
      "provenance": []
    },
    "kernelspec": {
      "name": "python3",
      "display_name": "Python 3"
    },
    "language_info": {
      "name": "python"
    }
  },
  "cells": [
    {
      "cell_type": "code",
      "source": [
        "#Q1 Fix all the syntax and logical errors in the given source code\n",
        "#add comments to explain your reasoning\n",
        "\n",
        "# This program gets three test scores and displays their average.  It congratulates the user if the\n",
        "# average is a high score. The high score variable holds the value that is considered a high score.\n",
        "\n",
        "HIGH_SCORE = 95\n",
        "\n",
        "# Get the test scores.\n",
        "#must change each input into a float since they are initially strings\n",
        "test1 = float(input('Enter the score for test 1: '))\n",
        "test2 = float(input('Enter the score for test 2: '))\n",
        "\n",
        "#added in an input for test3\n",
        "test3 = float(input('Enter the score for test 3: '))\n",
        "\n",
        "# Calculate the average test score.\n",
        "#parentheses in the numerator\n",
        "average = (test1 + test2 + test3) / 3\n",
        "# Print the average.\n",
        "print('The average score is', average)\n",
        "# If the average is a high score,\n",
        "# congratulate the user.\n",
        "\n",
        "#high_score was entered in lowercase when it should be all uppercase\n",
        "if average >= HIGH_SCORE:\n",
        "    print('Congratulations!')\n",
        "\n",
        "    #the following print statement would have printed regardless of the average because there was no indent\n",
        "    #I've included an indent to print only if the average is high\n",
        "    print('That is a great average!')\n",
        "\n",
        "#Q2\n",
        "#The area of a rectangle is the rectangle’s length times its width. Write a program that asks for the length and width of two rectangles and prints to the user the area of both rectangles.\n",
        "\n",
        "length1 = float(input('Enter the length of the first rectangle: '))\n",
        "width1 = float(input('Enter the width of the first rectangle: '))\n",
        "length2 = float(input('Enter the length of the second rectangle: '))\n",
        "width2 = float(input('Enter the length of the second rectangle: '))\n",
        "\n",
        "area1 = length1 * width1\n",
        "area2 = length2 * width2\n",
        "\n",
        "print('The area of the first rectangle is: ', area1, 'square units.')\n",
        "print('The area of the second rectangle is: ', area2, 'square units.')\n",
        "\n",
        "#Q3\n",
        "#Ask a user to enter their first name and their age and assign it to the variables name and age.\n",
        "#The variable name should be a string and the variable age should be an int.\n",
        "name = input('Enter your first name: ')\n",
        "age = int(input('Enter your age: '))\n",
        "\n",
        "print(type(name))\n",
        "print(type(age))\n",
        "\n",
        "#Using the variables name and age, print a message to the user stating something along the lines of:\n",
        "# \"Happy birthday, name!  You are age years old today!\"\n",
        "print('Happy birthday,', name, '. You are', age, 'years old today!')\n",
        "\n"
      ],
      "metadata": {
        "colab": {
          "base_uri": "https://localhost:8080/"
        },
        "id": "qSQOAN5jh4_2",
        "outputId": "002aaaa1-4f97-4013-be65-5e61e9c8d036"
      },
      "execution_count": null,
      "outputs": [
        {
          "output_type": "stream",
          "name": "stdout",
          "text": [
            "Enter the score for test 1: 1\n",
            "Enter the score for test 2: 1\n",
            "Enter the score for test 3: 2\n",
            "The average score is 1.3333333333333333\n",
            "Enter the length of the first rectangle: 1\n",
            "Enter the width of the first rectangle: 1\n",
            "Enter the length of the second rectangle: 2\n",
            "Enter the length of the second rectangle: 2\n",
            "The area of the first rectangle is:  1.0 square units.\n",
            "The area of the second rectangle is:  4.0 square units.\n",
            "Enter your first name: Ju\n",
            "Enter your age: 31\n",
            "<class 'str'>\n",
            "<class 'int'>\n",
            "Happy birthday, Ju . You are 31 years old today!\n"
          ]
        },
        {
          "output_type": "execute_result",
          "data": {
            "text/plain": [
              "1"
            ]
          },
          "metadata": {},
          "execution_count": 15
        }
      ]
    }
  ]
}