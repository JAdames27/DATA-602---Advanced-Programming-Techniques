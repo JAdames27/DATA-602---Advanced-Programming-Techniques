{
  "nbformat": 4,
  "nbformat_minor": 0,
  "metadata": {
    "colab": {
      "provenance": []
    },
    "kernelspec": {
      "name": "python3",
      "display_name": "Python 3"
    },
    "language_info": {
      "name": "python"
    }
  },
  "cells": [
    {
      "cell_type": "markdown",
      "source": [
        "Q1. What will the following code display?\n",
        "\n",
        "numbers = [1, 2, 3, 4, 5]\n",
        "print(numbers[1:-5])\n",
        "\n",
        "Can you debug and fix the output?  The code should return the entire list"
      ],
      "metadata": {
        "id": "aEY4TeUT5Uy-"
      }
    },
    {
      "cell_type": "code",
      "source": [
        "numbers = [1, 2, 3, 4, 5]\n",
        "print(numbers[0:6])"
      ],
      "metadata": {
        "colab": {
          "base_uri": "https://localhost:8080/"
        },
        "id": "p5_Fe3PZ5dqH",
        "outputId": "05c70ba4-52f1-4158-ed30-3163265b781f"
      },
      "execution_count": null,
      "outputs": [
        {
          "output_type": "stream",
          "name": "stdout",
          "text": [
            "[1, 2, 3, 4, 5]\n"
          ]
        }
      ]
    },
    {
      "cell_type": "markdown",
      "source": [
        "Q2. Design a program that asks the user to enter a store’s sales for each day of the week. The amounts should be stored in a list. Use a loop to calculate the total sales for the week and display the result.\n"
      ],
      "metadata": {
        "id": "mXDbydHf5PF6"
      }
    },
    {
      "cell_type": "code",
      "source": [
        "#empty list ready to be loaded\n",
        "sales = []\n",
        "\n",
        "#for loop to load empty sales list\n",
        "for i in range(1,8):\n",
        "  print('Day', i)\n",
        "  dsale = float(input('Enter the daily sales amount: '))\n",
        "  sales.append(dsale)\n",
        "\n",
        "#add up sales values\n",
        "print(sum(sales))\n"
      ],
      "metadata": {
        "colab": {
          "base_uri": "https://localhost:8080/"
        },
        "id": "vGEw7h1453dz",
        "outputId": "12e2d7aa-c71a-499f-d523-ddc8c47aa377"
      },
      "execution_count": null,
      "outputs": [
        {
          "output_type": "stream",
          "name": "stdout",
          "text": [
            "Day 1\n",
            "Enter the daily sales amount: 2\n",
            "Day 2\n",
            "Enter the daily sales amount: 4\n",
            "Day 3\n",
            "Enter the daily sales amount: 6\n",
            "Day 4\n",
            "Enter the daily sales amount: 8\n",
            "Day 5\n",
            "Enter the daily sales amount: 10\n",
            "Day 6\n",
            "Enter the daily sales amount: 12\n",
            "Day 7\n",
            "Enter the daily sales amount: 14\n",
            "56.0\n"
          ]
        }
      ]
    },
    {
      "cell_type": "markdown",
      "source": [
        "Q3. Create a list with at least 5 places you’d like to travel to.   Make sure the list isn’t in alphabetical order\n",
        "\n",
        "1.   Print your list in its original order.\n",
        "2.   Use the sort() function to arrange your list in order and reprint your list.\n",
        "3.   Use the sort(reverse=True) and reprint your list."
      ],
      "metadata": {
        "id": "XMx8PMKA8gsp"
      }
    },
    {
      "cell_type": "code",
      "source": [
        "#print list in its original order\n",
        "countries = ['Greece','Egypt','Jordaan','Turkey','Iraq']\n",
        "print(countries)\n",
        "\n",
        "#use sort() function to arrange list in order\n",
        "countries.sort()\n",
        "print(countries)\n",
        "\n",
        "#use sort(reverse=True)\n",
        "countries.sort(reverse=True)\n",
        "print(countries)"
      ],
      "metadata": {
        "colab": {
          "base_uri": "https://localhost:8080/"
        },
        "id": "FGRSXM3V9u6A",
        "outputId": "d6618e51-7b33-4cbb-9df0-1a18c298cfe4"
      },
      "execution_count": null,
      "outputs": [
        {
          "output_type": "stream",
          "name": "stdout",
          "text": [
            "['Greece', 'Egypt', 'Jordaan', 'Turkey', 'Iraq']\n",
            "['Egypt', 'Greece', 'Iraq', 'Jordaan', 'Turkey']\n",
            "['Turkey', 'Jordaan', 'Iraq', 'Greece', 'Egypt']\n"
          ]
        }
      ]
    },
    {
      "cell_type": "markdown",
      "source": [
        "Q4. Write a program that creates a dictionary containing course numbers and the room numbers of the rooms where the courses meet. The program should also create a dictionary containing course numbers and the names of the instructors that teach each course. After that, the program should let the user enter a course number, then it should display the course’s room number, instructor, and meeting time."
      ],
      "metadata": {
        "id": "Re3sO2ZZ-H7M"
      }
    },
    {
      "cell_type": "code",
      "source": [
        "courses = {'601':['Room 201', 'Gaines', '12:00pm'],\n",
        "           '602':['Room 209', 'Sanchez', '10:00am'],\n",
        "           '603':['Room 207', 'Pastor', '4:00pm'],\n",
        "           '604':['Room 215', 'Jones', '8:00am'],\n",
        "           '605':['Room 221', 'Evans', '1:00pm']\n",
        "           }\n",
        "\n",
        "#ask user for course number input\n",
        "course = int(input('Enter the course number: '))\n",
        "\n",
        "#if invalid course number entered, error displays\n",
        "if course in range(601,605):\n",
        "  print('Course #', course, 'is taught by', courses[str(course)][1], '.  It meets in', courses[str(course)][0], 'at', courses[str(course)][2], '.')\n",
        "else:\n",
        "  print('\\nInvalid Course Number.')"
      ],
      "metadata": {
        "colab": {
          "base_uri": "https://localhost:8080/"
        },
        "id": "giPrNMi--OZp",
        "outputId": "5f9a0e04-916f-4d93-b99e-14761590ab07"
      },
      "execution_count": null,
      "outputs": [
        {
          "output_type": "stream",
          "name": "stdout",
          "text": [
            "Enter the course number: 603\n",
            "Course # 603 is taught by Pastor .  It meets in Room 207 at 4:00pm .\n"
          ]
        }
      ]
    },
    {
      "cell_type": "markdown",
      "source": [
        "Q5. Write a program that keeps names and email addresses in a dictionary as key-value pairs. The program should then demonstrate the four options:\n",
        "\n",
        "\n",
        "*   look up a person’s email address,\n",
        "*   add a new name and email address,\n",
        "*   change an existing email address, and\n",
        "*   delete an existing name and email address."
      ],
      "metadata": {
        "id": "hObgg-UmDDwZ"
      }
    },
    {
      "cell_type": "code",
      "source": [
        "emails = {'John':'John@fmail.com',\n",
        "          'Jane':'Jane@fmail.com',\n",
        "          'June':'June@fmail.com',\n",
        "          'Joan':'Joan@fmail.com',\n",
        "          'Jenn':'Jenn@fmail.com'\n",
        "          }\n",
        "\n",
        "#look up a person's email address\n",
        "print(emails['John'])\n",
        "print(emails['Jenn'])\n",
        "\n",
        "#add a new name and email address\n",
        "emails['Jill'] = 'Jill@fmail.com'\n",
        "print(emails)\n",
        "\n",
        "#change an existing email address\n",
        "emails['June'] = 'monthsix@calendar.com'\n",
        "print(emails)\n",
        "\n",
        "#delete an existing name and email address\n",
        "del(emails['Joan'])\n",
        "print(emails)"
      ],
      "metadata": {
        "colab": {
          "base_uri": "https://localhost:8080/"
        },
        "id": "eL0ZVbW-DZJk",
        "outputId": "e34e3b4d-8cef-411c-e912-a9423677144b"
      },
      "execution_count": null,
      "outputs": [
        {
          "output_type": "stream",
          "name": "stdout",
          "text": [
            "John@fmail.com\n",
            "Jenn@fmail.com\n",
            "{'John': 'John@fmail.com', 'Jane': 'Jane@fmail.com', 'June': 'June@fmail.com', 'Joan': 'Joan@fmail.com', 'Jenn': 'Jenn@fmail.com', 'Jill': 'Jill@fmail.com'}\n",
            "{'John': 'John@fmail.com', 'Jane': 'Jane@fmail.com', 'June': 'monthsix@calendar.com', 'Joan': 'Joan@fmail.com', 'Jenn': 'Jenn@fmail.com', 'Jill': 'Jill@fmail.com'}\n",
            "{'John': 'John@fmail.com', 'Jane': 'Jane@fmail.com', 'June': 'monthsix@calendar.com', 'Jenn': 'Jenn@fmail.com', 'Jill': 'Jill@fmail.com'}\n"
          ]
        }
      ]
    }
  ]
}