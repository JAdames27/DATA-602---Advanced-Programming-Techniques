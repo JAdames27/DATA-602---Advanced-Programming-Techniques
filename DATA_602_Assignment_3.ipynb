{
  "nbformat": 4,
  "nbformat_minor": 0,
  "metadata": {
    "colab": {
      "provenance": []
    },
    "kernelspec": {
      "name": "python3",
      "display_name": "Python 3"
    },
    "language_info": {
      "name": "python"
    }
  },
  "cells": [
    {
      "cell_type": "code",
      "execution_count": null,
      "metadata": {
        "colab": {
          "base_uri": "https://localhost:8080/"
        },
        "id": "p4QUornSsVev",
        "outputId": "a89c5fc7-f3e8-4412-fae2-234e3e991b0f"
      },
      "outputs": [
        {
          "output_type": "stream",
          "name": "stdout",
          "text": [
            "Enter meal-time: lunch\n",
            "Cheeseburgers are on the menu.\n",
            "Enter the number of hours you worked this week: 25\n",
            "Enter your pay rate: 92\n",
            "Your gross pay is  2530.0\n",
            "6666666666\n",
            "How many calories are in the first food? 1\n",
            "How many calories are in the first food? 2\n",
            "The total calories you ate today 3.00\n",
            "93.84460105853213\n"
          ]
        }
      ],
      "source": [
        "#Julian Adames-Ng\n",
        "#DATA 602 - Assignment #3\n",
        "\n",
        "#Q1: Write a program that prompts the user for a meal: breakfast, lunch, or dinner.\n",
        "#Then using if statements and else statements print the user a message recommending a meal.\n",
        "#For example, if the meal was breakfast, you could say something like, “How about some bacon and eggs?”\n",
        "#The user may enter something else in, but you only have to respond to breakfast, lunch, or dinner.\n",
        "\n",
        "def food():\n",
        "  meal = input('Enter meal-time: ')\n",
        "  if meal == 'breakfast':\n",
        "    print('Would you like some cereal?')\n",
        "  elif meal == 'lunch':\n",
        "    print('Cheeseburgers are on the menu.')\n",
        "  elif meal == 'dinner':\n",
        "    print(\"This evening, we're having steak\")\n",
        "  else:\n",
        "    print('You entered an invalid meal-time')\n",
        "\n",
        "food()\n",
        "\n",
        "\n",
        "#Q2: The mailroom has asked you to design a simple payroll program that calculates\n",
        "#a student employee’s gross pay, including any overtime wages. If any employee works\n",
        "#over 20 hours in a week, the mailroom pays them 1.5 times their regular hourly pay\n",
        "#rate for all hours over 20. You should take in the user’s input for the number of\n",
        "#hours worked, and their rate of pay.\n",
        "\n",
        "def pay():\n",
        "  try:\n",
        "    hours = float(input('Enter the number of hours you worked this week: '))\n",
        "    rate = float(input('Enter your pay rate: '))\n",
        "    if hours > 20:\n",
        "        print(\"Your gross pay is \", 20 * rate + (hours - 20) * 1.5 * rate )\n",
        "    else:\n",
        "      print('Your gross pay is ', rate * hours)\n",
        "  except:\n",
        "    print('\\nYou entered an invalid pay rate and/or hours worked.')\n",
        "\n",
        "\n",
        "pay()\n",
        "\n",
        "#Q3: Write a function named times_ten. The function should accept an argument and display the product of its argument multiplied times 10.\n",
        "\n",
        "def times_ten(x):\n",
        "  print(10*x)\n",
        "\n",
        "times_ten('6')\n",
        "\n",
        "#Q4: Find the errors, debug the program, and then execute to show the output.\n",
        "\n",
        "\n",
        "def main():\n",
        "      calories1 = float(input('How many calories are in the first food? '))\n",
        "      calories2 = float(input('How many calories are in the first food? '))\n",
        "      showCalories(calories1, calories2)\n",
        "\n",
        "def showCalories(calories1, calories2):\n",
        "   print('The total calories you ate today', format(calories1 + calories2,\".2f\"))\n",
        "\n",
        "main()\n",
        "\n",
        "#Q5: Write a program that uses any loop (while or for) that calculates the total of the following series of numbers:\n",
        "#         1/30 + 2/29 + 3/28 ............. + 30/1\n",
        "\n",
        "sum = 0\n",
        "\n",
        "#this is a summation which is basically a for loop\n",
        "for i in range(1,31):\n",
        "  sum = sum + i/(31-i)\n",
        "\n",
        "print(sum)\n",
        "\n",
        "#Q6: Write a function that computes the area of a triangle given its base and height.\n",
        "#The formula for an area of a triangle is:\n",
        "#AREA = 1/2 * BASE * HEIGHT\n",
        "\n",
        "def triangle_area(b, h):\n",
        "  area = 1/2 * b * h\n",
        "  print(area)\n",
        "\n",
        "#For example, if the base was 5 and the height was 4, the area would be 10.\n",
        "#triangle_area(5, 4)   # should print 10\n",
        "\n"
      ]
    }
  ]
}