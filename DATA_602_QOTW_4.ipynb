{
  "nbformat": 4,
  "nbformat_minor": 0,
  "metadata": {
    "colab": {
      "provenance": []
    },
    "kernelspec": {
      "name": "python3",
      "display_name": "Python 3"
    },
    "language_info": {
      "name": "python"
    }
  },
  "cells": [
    {
      "cell_type": "code",
      "execution_count": 1,
      "metadata": {
        "colab": {
          "base_uri": "https://localhost:8080/"
        },
        "id": "Rb7G4eJEs1Ld",
        "outputId": "e4e22404-e2ff-4af9-ada0-48b2834bce10"
      },
      "outputs": [
        {
          "output_type": "stream",
          "name": "stdout",
          "text": [
            "Adames-Ng Julian\n",
            "3.141592653589793 12.566370614359172 \n",
            "\n",
            "The area of a circle with radius 3 is 28.274333882308138 \n",
            "\n",
            "The perimeter/circumference of a circle with radius 3 is 18.84955592153876\n",
            " \n",
            "\n",
            "The area of a circle with radius 57 is 10207.034531513238 \n",
            "\n",
            "The perimeter/circumference of a circle with radius 57 is 358.1415625092364\n",
            "\n"
          ]
        }
      ],
      "source": [
        "import numpy as np\n",
        "#1. Write a Python class to reverse a string word by word.\n",
        "\n",
        "#Example:\n",
        "#Input string : 'hello .py'\n",
        "#Expected Output : '.py hello'\n",
        "\n",
        "class reversal:\n",
        "    def reverse(self, string):\n",
        "        return ' '.join(reversed(string.split()))\n",
        "\n",
        "\n",
        "print(reversal().reverse('Julian Adames-Ng'))\n",
        "\n",
        "\n",
        "\n",
        "#2. Write a Python class named Circle constructed by a radius and two methods which will compute the area and the perimeter of a circle.\n",
        "\n",
        "class Circle:\n",
        "  def __init__(self, r):\n",
        "    self.radius = r\n",
        "\n",
        "  def area(self):\n",
        "    return np.pi * self.radius ** 2\n",
        "    #print(f\"The area of a circle with radius {self.radius} is {np.pi * self.radius ** 2}\")\n",
        "\n",
        "  def perim(self):\n",
        "    return 2 * np.pi * self.radius\n",
        "\n",
        "  def __str__(self):\n",
        "    return f\"\\n\\nThe area of a circle with radius {self.radius} is {np.pi * self.radius ** 2} \\n\\nThe perimeter/circumference of a circle with radius {self.radius} is {2 * np.pi * self.radius}\\n\"\n",
        "\n",
        "circ1 = Circle(1)\n",
        "circ2 = Circle(2)\n",
        "circ3 = Circle(3)\n",
        "circ57 = Circle(57)\n",
        "\n",
        "print(circ1.area(), circ2.perim(), circ3, circ57)\n"
      ]
    }
  ]
}